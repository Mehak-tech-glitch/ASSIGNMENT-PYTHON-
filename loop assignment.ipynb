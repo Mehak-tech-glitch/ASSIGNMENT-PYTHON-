{
 "cells": [
  {
   "cell_type": "code",
   "execution_count": null,
   "id": "30eb174d-01a1-4631-a181-68e59600614c",
   "metadata": {},
   "outputs": [],
   "source": [
    "Question 1: Print numbers from 1 to 10 using a for loop"
   ]
  },
  {
   "cell_type": "code",
   "execution_count": 3,
   "id": "ad7faf41-a94a-434a-b656-f280bbaf5466",
   "metadata": {},
   "outputs": [
    {
     "name": "stdout",
     "output_type": "stream",
     "text": [
      "Numbers from 1 to 10:\n",
      "1 2 3 4 5 6 7 8 9 10 "
     ]
    }
   ],
   "source": [
    "print(\"Numbers from 1 to 10:\")\n",
    "for num in range(1, 11):\n",
    "    print(num, end=\" \")"
   ]
  },
  {
   "cell_type": "code",
   "execution_count": null,
   "id": "cfccdbb7-9912-4f03-a631-c9ae2daea225",
   "metadata": {},
   "outputs": [],
   "source": [
    "Question 2: Find the sum of numbers from 1 to 100 using a for loop?"
   ]
  },
  {
   "cell_type": "code",
   "execution_count": 4,
   "id": "ab3ca37f-4fca-470e-9cdd-750cc9d52345",
   "metadata": {},
   "outputs": [
    {
     "name": "stdout",
     "output_type": "stream",
     "text": [
      "Sum of numbers from 1 to 100 is: 5050\n"
     ]
    }
   ],
   "source": [
    "total = 0\n",
    "for num in range(1, 101):\n",
    "    total += num\n",
    "print(\"Sum of numbers from 1 to 100 is:\", total)"
   ]
  },
  {
   "cell_type": "code",
   "execution_count": null,
   "id": "8d7694f4-f588-4a50-ac65-1739022881e5",
   "metadata": {},
   "outputs": [],
   "source": [
    "Question 3: Multiplication table of a given number?"
   ]
  },
  {
   "cell_type": "code",
   "execution_count": 5,
   "id": "7f10742f-438f-4e53-9896-f6651f6398e1",
   "metadata": {},
   "outputs": [
    {
     "name": "stdout",
     "output_type": "stream",
     "text": [
      "Multiplication table of 5:\n",
      "5 x 1 = 5\n",
      "5 x 2 = 10\n",
      "5 x 3 = 15\n",
      "5 x 4 = 20\n",
      "5 x 5 = 25\n",
      "5 x 6 = 30\n",
      "5 x 7 = 35\n",
      "5 x 8 = 40\n",
      "5 x 9 = 45\n",
      "5 x 10 = 50\n"
     ]
    }
   ],
   "source": [
    "number = 5\n",
    "print(f\"Multiplication table of {number}:\")\n",
    "for i in range(1, 11):\n",
    "    print(f\"{number} x {i} = {number*i}\")\n"
   ]
  },
  {
   "cell_type": "code",
   "execution_count": null,
   "id": "5a65c4db-0c15-49cd-927e-a2a65a69316a",
   "metadata": {},
   "outputs": [],
   "source": [
    "Question 4: Count even and odd numbers in a list?"
   ]
  },
  {
   "cell_type": "code",
   "execution_count": 6,
   "id": "8340017e-7c79-4699-9528-fc1bc7e5d127",
   "metadata": {},
   "outputs": [
    {
     "name": "stdout",
     "output_type": "stream",
     "text": [
      "Total even numbers: 5\n",
      "Total odd numbers: 5\n"
     ]
    }
   ],
   "source": [
    "numbers = [1, 2, 3, 4, 5, 6, 7, 8, 9, 10]\n",
    "even_count = 0\n",
    "odd_count = 0\n",
    "\n",
    "for num in numbers:\n",
    "    if num % 2 == 0:\n",
    "        even_count += 1\n",
    "    else:\n",
    "        odd_count += 1\n",
    "\n",
    "print(\"Total even numbers:\", even_count)\n",
    "print(\"Total odd numbers:\", odd_count)"
   ]
  },
  {
   "cell_type": "code",
   "execution_count": null,
   "id": "0a4f58fa-2a94-44cb-87ec-a535460599f0",
   "metadata": {},
   "outputs": [],
   "source": [
    "Question 5: Factorial of a number using a for loop?"
   ]
  },
  {
   "cell_type": "code",
   "execution_count": 7,
   "id": "c8f6a619-0b3e-4b00-8441-7cc295b0e938",
   "metadata": {},
   "outputs": [
    {
     "name": "stdout",
     "output_type": "stream",
     "text": [
      "Factorial of 5 is: 120\n"
     ]
    }
   ],
   "source": [
    "num = 5 \n",
    "factorial = 1\n",
    "\n",
    "for i in range(1, num + 1):\n",
    "    factorial *= i\n",
    "\n",
    "print(f\"Factorial of {num} is:\", factorial)\n"
   ]
  },
  {
   "cell_type": "code",
   "execution_count": null,
   "id": "2d6d49a4-647d-4987-86f0-62e00fed09c5",
   "metadata": {},
   "outputs": [],
   "source": [
    "Question 6: Fibonacci sequence up to n terms?"
   ]
  },
  {
   "cell_type": "code",
   "execution_count": 8,
   "id": "931fd94b-cf2e-4017-96f0-eff31224294f",
   "metadata": {},
   "outputs": [
    {
     "name": "stdout",
     "output_type": "stream",
     "text": [
      "Fibonacci Sequence:\n",
      "0 1 1 2 3 5 8 13 21 34 "
     ]
    }
   ],
   "source": [
    "terms = 10\n",
    "a, b = 0, 1\n",
    "print(\"Fibonacci Sequence:\")\n",
    "\n",
    "for i in range(terms):\n",
    "    print(a, end=\" \")\n",
    "    a, b = b, a + b"
   ]
  },
  {
   "cell_type": "code",
   "execution_count": null,
   "id": "6f210cdd-3046-45c4-b90a-da7999d746be",
   "metadata": {},
   "outputs": [],
   "source": [
    "Question 7: Check if a number is prime using a for loop?"
   ]
  },
  {
   "cell_type": "code",
   "execution_count": 9,
   "id": "be7f8f9f-c69e-46b8-bdb4-3c0c088f7cd3",
   "metadata": {},
   "outputs": [
    {
     "name": "stdout",
     "output_type": "stream",
     "text": [
      "29 is a prime number\n"
     ]
    }
   ],
   "source": [
    "num = 29\n",
    "is_prime = True\n",
    "\n",
    "if num <= 1:\n",
    "    is_prime = False\n",
    "else:\n",
    "    for i in range(2, num):\n",
    "        if num % i == 0:\n",
    "            is_prime = False\n",
    "            break\n",
    "\n",
    "if is_prime:\n",
    "    print(num, \"is a prime number\")\n",
    "else:\n",
    "    print(num, \"is not a prime number\")"
   ]
  },
  {
   "cell_type": "code",
   "execution_count": null,
   "id": "6da423b1-aa2c-4356-aaf7-0ab60c1d6beb",
   "metadata": {},
   "outputs": [],
   "source": [
    "Question 8: Find the largest element in a list?"
   ]
  },
  {
   "cell_type": "code",
   "execution_count": 10,
   "id": "d358e4d5-1ced-4832-943b-284e1d61714e",
   "metadata": {},
   "outputs": [
    {
     "name": "stdout",
     "output_type": "stream",
     "text": [
      "Largest element in the list is: 78\n"
     ]
    }
   ],
   "source": [
    "numbers = [12, 45, 78, 23, 56]\n",
    "largest = numbers[0]\n",
    "\n",
    "for num in numbers:\n",
    "    if num > largest:\n",
    "        largest = num\n",
    "\n",
    "print(\"Largest element in the list is:\", largest)"
   ]
  },
  {
   "cell_type": "code",
   "execution_count": null,
   "id": "39041b14-0060-4d90-a649-4ca069150712",
   "metadata": {},
   "outputs": [],
   "source": [
    "Question 9: Reverse a string using a for loop?"
   ]
  },
  {
   "cell_type": "code",
   "execution_count": 11,
   "id": "2a03551a-a170-476a-abf0-a402dd38e119",
   "metadata": {},
   "outputs": [
    {
     "name": "stdout",
     "output_type": "stream",
     "text": [
      "Original String: hello\n",
      "Reversed String: olleh\n"
     ]
    }
   ],
   "source": [
    "text = \"hello\"\n",
    "reversed_text = \"\"\n",
    "\n",
    "for char in text:\n",
    "    reversed_text = char + reversed_text\n",
    "\n",
    "print(\"Original String:\", text)\n",
    "print(\"Reversed String:\", reversed_text)"
   ]
  },
  {
   "cell_type": "code",
   "execution_count": null,
   "id": "d6bea327-e5f4-4807-bc82-b07ca1b83354",
   "metadata": {},
   "outputs": [],
   "source": [
    "Question 10: Find common elements in two lists using a for loop?"
   ]
  },
  {
   "cell_type": "code",
   "execution_count": 12,
   "id": "ab752377-0ffe-48ee-8ec2-6e018b7aa054",
   "metadata": {},
   "outputs": [
    {
     "name": "stdout",
     "output_type": "stream",
     "text": [
      "Common elements: [1]\n"
     ]
    }
   ],
   "source": [
    "list1 = [1, 2, 3]\n",
    "list2 = [4, 5, 1]\n",
    "common = []\n",
    "\n",
    "for item in list1:\n",
    "    for element in list2:\n",
    "        if item == element:\n",
    "            common.append(item)\n",
    "\n",
    "print(\"Common elements:\", common)"
   ]
  },
  {
   "cell_type": "code",
   "execution_count": null,
   "id": "5d54bfe4-5692-4311-bc78-d56a5575d309",
   "metadata": {},
   "outputs": [],
   "source": []
  }
 ],
 "metadata": {
  "kernelspec": {
   "display_name": "Python 3 (ipykernel)",
   "language": "python",
   "name": "python3"
  },
  "language_info": {
   "codemirror_mode": {
    "name": "ipython",
    "version": 3
   },
   "file_extension": ".py",
   "mimetype": "text/x-python",
   "name": "python",
   "nbconvert_exporter": "python",
   "pygments_lexer": "ipython3",
   "version": "3.13.5"
  }
 },
 "nbformat": 4,
 "nbformat_minor": 5
}
